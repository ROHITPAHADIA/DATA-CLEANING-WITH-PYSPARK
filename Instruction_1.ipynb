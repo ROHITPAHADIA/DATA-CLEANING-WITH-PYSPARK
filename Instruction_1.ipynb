{
  "nbformat": 4,
  "nbformat_minor": 0,
  "metadata": {
    "colab": {
      "provenance": []
    },
    "kernelspec": {
      "name": "python3",
      "display_name": "Python 3"
    },
    "language_info": {
      "name": "python"
    }
  },
  "cells": [
    {
      "cell_type": "code",
      "execution_count": 1,
      "metadata": {
        "colab": {
          "base_uri": "https://localhost:8080/"
        },
        "id": "1aH326ogM1NN",
        "outputId": "6f0db383-656b-466c-a3d2-e2928e94cc2d"
      },
      "outputs": [
        {
          "output_type": "stream",
          "name": "stdout",
          "text": [
            "Requirement already satisfied: pyspark in /usr/local/lib/python3.11/dist-packages (3.5.1)\n",
            "Requirement already satisfied: py4j==0.10.9.7 in /usr/local/lib/python3.11/dist-packages (from pyspark) (0.10.9.7)\n"
          ]
        }
      ],
      "source": [
        "!pip install pyspark"
      ]
    },
    {
      "cell_type": "code",
      "source": [
        "#importing libraries\n",
        "from pyspark.sql import SparkSession\n",
        "from pyspark.sql.functions import col\n"
      ],
      "metadata": {
        "id": "V_psEQHEM60h"
      },
      "execution_count": 2,
      "outputs": []
    },
    {
      "cell_type": "code",
      "source": [
        "# Create a Spark Session\n",
        "spark = SparkSession.builder.appName(\"DataCleaningProject\").getOrCreate()\n"
      ],
      "metadata": {
        "id": "KARxR8U8NDd5"
      },
      "execution_count": 4,
      "outputs": []
    },
    {
      "cell_type": "code",
      "source": [
        "#Load Sample Dataset\n",
        "data = [\n",
        "    (\"John\", 28, \"New York\"),\n",
        "    (\"Alice\", None, \"Los Angeles\"),\n",
        "    (\"Bob\", 35, \"New York\"),\n",
        "    (\"Alice\", None, \"Los Angeles\"),\n",
        "    (None, 40, \"Chicago\")\n",
        "]\n",
        "\n",
        "columns = [\"Name\", \"Age\", \"City\"]\n",
        "\n",
        "df = spark.createDataFrame(data, columns)\n",
        "print(\"Original Data:\")\n",
        "df.show()\n"
      ],
      "metadata": {
        "colab": {
          "base_uri": "https://localhost:8080/"
        },
        "id": "PknzGD5iNGQl",
        "outputId": "51d52d6e-d546-4370-83d6-e621437c3949"
      },
      "execution_count": 5,
      "outputs": [
        {
          "output_type": "stream",
          "name": "stdout",
          "text": [
            "Original Data:\n",
            "+-----+----+-----------+\n",
            "| Name| Age|       City|\n",
            "+-----+----+-----------+\n",
            "| John|  28|   New York|\n",
            "|Alice|NULL|Los Angeles|\n",
            "|  Bob|  35|   New York|\n",
            "|Alice|NULL|Los Angeles|\n",
            "| NULL|  40|    Chicago|\n",
            "+-----+----+-----------+\n",
            "\n"
          ]
        }
      ]
    },
    {
      "cell_type": "code",
      "source": [
        "#Remove Duplicates\n",
        "df_no_duplicates = df.dropDuplicates()\n",
        "print(\"After Removing Duplicates:\")\n",
        "df_no_duplicates.show()\n"
      ],
      "metadata": {
        "colab": {
          "base_uri": "https://localhost:8080/"
        },
        "id": "x_5CXDouNRiK",
        "outputId": "771c5a7a-a44a-471a-cbb9-c03784a5bed9"
      },
      "execution_count": 7,
      "outputs": [
        {
          "output_type": "stream",
          "name": "stdout",
          "text": [
            "After Removing Duplicates:\n",
            "+-----+----+-----------+\n",
            "| Name| Age|       City|\n",
            "+-----+----+-----------+\n",
            "| John|  28|   New York|\n",
            "|  Bob|  35|   New York|\n",
            "|Alice|NULL|Los Angeles|\n",
            "| NULL|  40|    Chicago|\n",
            "+-----+----+-----------+\n",
            "\n"
          ]
        }
      ]
    },
    {
      "cell_type": "code",
      "source": [
        "#Handle Missing Values\n",
        "df_cleaned = df_no_duplicates.dropna()\n",
        "print(\"After Dropping Rows with Missing Values:\")\n",
        "df_cleaned.show()\n"
      ],
      "metadata": {
        "colab": {
          "base_uri": "https://localhost:8080/"
        },
        "id": "2bL6UGPTNYCr",
        "outputId": "7e1ce149-67bf-4f0d-f92d-13914ddf1e00"
      },
      "execution_count": 8,
      "outputs": [
        {
          "output_type": "stream",
          "name": "stdout",
          "text": [
            "After Dropping Rows with Missing Values:\n",
            "+----+---+--------+\n",
            "|Name|Age|    City|\n",
            "+----+---+--------+\n",
            "|John| 28|New York|\n",
            "| Bob| 35|New York|\n",
            "+----+---+--------+\n",
            "\n"
          ]
        }
      ]
    },
    {
      "cell_type": "code",
      "source": [
        "#Save the Cleaned Data\n",
        "df_cleaned.write.csv(\"cleaned_data.csv\", header=True)\n"
      ],
      "metadata": {
        "id": "L9fxx_CTNj_L"
      },
      "execution_count": 9,
      "outputs": []
    },
    {
      "cell_type": "code",
      "source": [],
      "metadata": {
        "id": "IGJmQPFsNoLt"
      },
      "execution_count": null,
      "outputs": []
    }
  ]
}